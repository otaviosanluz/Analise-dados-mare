{
 "cells": [
  {
   "cell_type": "markdown",
   "metadata": {},
   "source": [
    "# Dados de maré Imbituba Jan/2020"
   ]
  },
  {
   "cell_type": "markdown",
   "metadata": {},
   "source": [
    "- Lendo dados de maré"
   ]
  },
  {
   "cell_type": "code",
   "execution_count": null,
   "metadata": {},
   "outputs": [],
   "source": [
    "# Importando a biblioteca\n",
    "import os"
   ]
  },
  {
   "cell_type": "code",
   "execution_count": null,
   "metadata": {},
   "outputs": [],
   "source": [
    "# Diretório\n",
    "path = \"C:/Users/otavio/Mundo/Carioca/dados\"\n",
    "\n",
    "# Lista com todos os dados do diretório\n",
    "all_files = os.listdir(path) # a função listdir retorna uma lista com todos os arquivos do diretório mencionado\n",
    "all_files"
   ]
  },
  {
   "cell_type": "code",
   "execution_count": null,
   "metadata": {},
   "outputs": [],
   "source": [
    "# Lista vazia que vai receber os dados\n",
    "data = []\n",
    "\n",
    "# Abrindo os dados\n",
    "for file in all_files:\n",
    "    with open(os.path.join(path, file), 'r') as f:\n",
    "        text = f.readlines()\n",
    "        data.append(text)"
   ]
  },
  {
   "cell_type": "code",
   "execution_count": null,
   "metadata": {},
   "outputs": [],
   "source": [
    "# Lista com os dados\n",
    "data"
   ]
  },
  {
   "cell_type": "markdown",
   "metadata": {},
   "source": [
    "- Organização e tratamento dos dados"
   ]
  },
  {
   "cell_type": "code",
   "execution_count": null,
   "metadata": {},
   "outputs": [],
   "source": [
    "# Importando as bibliotecas\n",
    "import numpy as np\n",
    "import pandas as pd\n",
    "import datetime\n",
    "import matplotlib.pyplot as plt"
   ]
  },
  {
   "cell_type": "code",
   "execution_count": null,
   "metadata": {},
   "outputs": [],
   "source": [
    "# Organizando os dados\n",
    "new_data = []\n",
    "\n",
    "for row in data:\n",
    "    for i in row:\n",
    "        \n",
    "        linha_quebrada = i.split()\n",
    "    \n",
    "        ldata = linha_quebrada[0].split('/')\n",
    "        lhora = linha_quebrada[1].split(':')\n",
    "        var1 = linha_quebrada[2].replace(',','.')\n",
    "        var2 = linha_quebrada[3].replace(',','.')\n",
    "    \n",
    "        dia = int(ldata[0])\n",
    "        mes = int(ldata[1])\n",
    "        ano = int(ldata[2])\n",
    "        hora = int(lhora[0])\n",
    "        minuto = int(lhora[1])\n",
    "        segundo = int(lhora[2])\n",
    "        var1 = float(var1)\n",
    "        var2 = float(var2)\n",
    "    \n",
    "        nova_linha =[ano, mes, dia, hora, minuto, segundo, var1, var2]\n",
    "    \n",
    "        new_data.append(nova_linha)    "
   ]
  },
  {
   "cell_type": "code",
   "execution_count": null,
   "metadata": {},
   "outputs": [],
   "source": [
    "# Novo formato do dado\n",
    "new_data"
   ]
  },
  {
   "cell_type": "code",
   "execution_count": null,
   "metadata": {},
   "outputs": [],
   "source": [
    "# Transformando o dado em um array numpy\n",
    "data = np.array(new_data)\n",
    "data.shape"
   ]
  },
  {
   "cell_type": "code",
   "execution_count": null,
   "metadata": {},
   "outputs": [],
   "source": [
    "# DataFrame dos dados\n",
    "col = ['year', 'month', 'day', 'hour', 'minute', 'second', 'var1', 'var2']\n",
    "df = pd.DataFrame(data, columns = col)\n",
    "df.head()"
   ]
  },
  {
   "cell_type": "code",
   "execution_count": null,
   "metadata": {},
   "outputs": [],
   "source": [
    "# Ajustando a data\n",
    "date = pd.DataFrame(df[col[0:5]])\n",
    "date = pd.to_datetime(date, format = '%d-%m-%Y %H:%M')"
   ]
  },
  {
   "cell_type": "code",
   "execution_count": null,
   "metadata": {},
   "outputs": [],
   "source": [
    "# DataFrame com a data ajustada\n",
    "copy = df.copy()\n",
    "df['date'] = date\n",
    "del (df['year'], df['month'], df['day'], df['hour'], df['minute'], df['second'])\n",
    "df.head()"
   ]
  },
  {
   "cell_type": "markdown",
   "metadata": {},
   "source": [
    "- Plot dos dados"
   ]
  },
  {
   "cell_type": "code",
   "execution_count": null,
   "metadata": {},
   "outputs": [],
   "source": [
    "# Série temporal do nível da maré (var2)\n",
    "plt.figure(figsize = (10,5))\n",
    "plt.plot(df['date'], df['var2'], color = 'blue')\n",
    "plt.xticks(rotation = 30)\n",
    "plt.title('Nível da maré Imbituba Jan/2020', fontdict = {'size':20})\n",
    "plt.xlabel('Tempo (dias)', fontdict = {'size':12})\n",
    "plt.ylabel('Nível (m)', fontdict = {'size':12})\n",
    "plt.grid(True)\n",
    "plt.show()"
   ]
  },
  {
   "cell_type": "code",
   "execution_count": null,
   "metadata": {},
   "outputs": [],
   "source": [
    "# Série temporal do nível da maré (var1)\n",
    "plt.figure(figsize = (10,5))\n",
    "plt.plot(df['date'], df['var1'], color = 'blue')\n",
    "plt.xticks(rotation = 30)\n",
    "plt.title('Nível da maré Imbituba Jan/2020', fontdict = {'size':20})\n",
    "plt.xlabel('Tempo (dias)', fontdict = {'size':12})\n",
    "plt.ylabel('Nível (m)', fontdict = {'size':12})\n",
    "plt.grid(True)\n",
    "plt.show()"
   ]
  }
 ],
 "metadata": {
  "kernelspec": {
   "display_name": "Python 3",
   "language": "python",
   "name": "python3"
  },
  "language_info": {
   "codemirror_mode": {
    "name": "ipython",
    "version": 3
   },
   "file_extension": ".py",
   "mimetype": "text/x-python",
   "name": "python",
   "nbconvert_exporter": "python",
   "pygments_lexer": "ipython3",
   "version": "3.7.6"
  }
 },
 "nbformat": 4,
 "nbformat_minor": 4
}
